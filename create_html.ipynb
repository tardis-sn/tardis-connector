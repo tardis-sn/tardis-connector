{
 "cells": [
  {
   "cell_type": "markdown",
   "metadata": {},
   "source": [
    "Notebook to create new html pages"
   ]
  },
  {
   "cell_type": "code",
   "execution_count": 8,
   "metadata": {},
   "outputs": [],
   "source": [
    "from pathlib import Path\n",
    "from jinja2 import Environment, FileSystemLoader\n",
    "from datetime import datetime\n",
    "import json"
   ]
  },
  {
   "cell_type": "code",
   "execution_count": 9,
   "metadata": {},
   "outputs": [],
   "source": [
    "TEMPLATE_PATH = Path(\"templates\")\n",
    "HOSTING_PATH = Path(\"all_events\")\n",
    "environment = Environment(\n",
    "    loader=FileSystemLoader(TEMPLATE_PATH),\n",
    "    extensions=[\"jinja2.ext.loopcontrols\", \"jinja2.ext.do\"],\n",
    ")"
   ]
  },
  {
   "cell_type": "code",
   "execution_count": 10,
   "metadata": {},
   "outputs": [],
   "source": [
    "with open('event_details.json', 'r') as f:\n",
    "    details = json.load(f)"
   ]
  },
  {
   "cell_type": "code",
   "execution_count": 11,
   "metadata": {},
   "outputs": [],
   "source": [
    "# YYYY/MM/DD format\n",
    "start_date = details['start_date']\n",
    "start_time = details['time']\n",
    "start_date_time_str = f\"{start_date} {start_time}\"\n",
    "start_date_datetime = datetime.strptime(start_date_time_str, \"%Y/%m/%d %H:%M\")\n",
    "\n",
    "# Parse the end date (only the date is considered)\n",
    "end_date = details['end_date']\n",
    "end_date_datetime = datetime.strptime(end_date, \"%Y/%m/%d\")\n",
    "\n",
    "# Extract the year from the end_date\n",
    "event_year = end_date_datetime.year\n",
    "\n",
    "# Generate the HTML page name using the event year\n",
    "html_page_name = f\"{event_year}.html\""
   ]
  },
  {
   "cell_type": "code",
   "execution_count": 12,
   "metadata": {},
   "outputs": [],
   "source": [
    "page_template = environment.get_template(\"landingpage.html\")\n",
    "template_level = html_page_name.count(\"/\")\n",
    "page_html_path = html_page_name\n",
    "page_content = page_template.render(\n",
    "    TEMPLATE_LEVEL=template_level,\n",
    "    start_date=start_date_datetime,\n",
    "    end_date=end_date_datetime,\n",
    "    event_year=event_year,\n",
    "    details=details\n",
    ")\n",
    "with open(page_html_path, mode=\"w\", encoding=\"utf-8\") as page:\n",
    "    page.write(page_content)"
   ]
  },
  {
   "cell_type": "code",
   "execution_count": 13,
   "metadata": {},
   "outputs": [],
   "source": [
    "# import time\n",
    "# from datetime import datetime\n",
    "\n",
    "# # Target date and time\n",
    "# target_date_str = \"2025/03/17 09:00\"  # Format: YYYY/MM/DD HH:MM\n",
    "# target_date = datetime.strptime(target_date_str, \"%Y/%m/%d %H:%M\")\n",
    "\n",
    "# # Countdown logic\n",
    "# while True:\n",
    "#     # Get the current date and time\n",
    "#     now = datetime.now()\n",
    "\n",
    "#     # Calculate the time remaining\n",
    "#     time_remaining = target_date - now\n",
    "\n",
    "#     if time_remaining.total_seconds() <= 0:\n",
    "#         print(\"Countdown Complete!\")\n",
    "#         break\n",
    "\n",
    "#     # Extract days, hours, minutes, and seconds\n",
    "#     days = time_remaining.days\n",
    "#     hours, remainder = divmod(time_remaining.seconds, 3600)\n",
    "#     minutes, seconds = divmod(remainder, 60)\n",
    "\n",
    "#     # Display the countdown\n",
    "#     print(f\"Countdown: {days}d {hours}h {minutes}m {seconds}s\", end=\"\\r\")\n",
    "\n",
    "#     # Wait for 1 second before updating\n",
    "#     time.sleep(1)\n"
   ]
  },
  {
   "cell_type": "code",
   "execution_count": 14,
   "metadata": {},
   "outputs": [],
   "source": [
    "page_template = environment.get_template(\"index_template.html\")\n",
    "template_level = html_page_name.count(\"/\")\n",
    "index_html_path = \"index.html\"\n",
    "index_page_content = page_template.render(\n",
    "    TEMPLATE_LEVEL=template_level,\n",
    "    current_year=event_year\n",
    ")\n",
    "with open(index_html_path, mode=\"w\", encoding=\"utf-8\") as index_page:\n",
    "    index_page.write(index_page_content)"
   ]
  }
 ],
 "metadata": {
  "kernelspec": {
   "display_name": "base",
   "language": "python",
   "name": "python3"
  },
  "language_info": {
   "codemirror_mode": {
    "name": "ipython",
    "version": 3
   },
   "file_extension": ".py",
   "mimetype": "text/x-python",
   "name": "python",
   "nbconvert_exporter": "python",
   "pygments_lexer": "ipython3",
   "version": "3.10.14"
  }
 },
 "nbformat": 4,
 "nbformat_minor": 2
}
